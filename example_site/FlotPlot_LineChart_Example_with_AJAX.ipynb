{
 "cells": [
  {
   "cell_type": "markdown",
   "metadata": {},
   "source": [
    "# Flot Plot Line Chart Example using AJAX\n",
    "\n",
    "Creating a plot with FlotPlot is pretty simple. It can be done with either hard coding data into the JavaScript file or using something like AJAX to asynchronously load the data. This is great because it means the page will load first and not be waiting on the data. The following will be some rough notes describing the code and the things that I learned while getting this to work. \n",
    "\n",
    "To begin we need some data, in this case I knew I would eventually be attempting to plot large datasets so an AJAx solution might be best to expierement with. In oder to make a simple example, I created a *sinuid* using `numpy` then converted it to a Pandas DataFrame so that it would be more representative of the types of data sources that I am use to working with. Once converted to a DataFrame the data source needed to be made into a json data type so that it could be served up with Flask.\n",
    "\n",
    "I used the `orient='records'` argument so that it would preserve the column names. I wanted to be able to use them in the JavaScript code to help make it a little bit easier to understand."
   ]
  },
  {
   "cell_type": "code",
   "execution_count": 1,
   "metadata": {},
   "outputs": [
    {
     "data": {
      "text/plain": [
       "[{'X': 0, 'Y': 30.0},\n",
       " {'X': 1, 'Y': 30.3681345981},\n",
       " {'X': 2, 'Y': 30.7361444588},\n",
       " {'X': 3, 'Y': 31.103904887},\n",
       " {'X': 4, 'Y': 31.471291272}]"
      ]
     },
     "execution_count": 1,
     "metadata": {},
     "output_type": "execute_result"
    }
   ],
   "source": [
    "import numpy as np\n",
    "import pandas as pd\n",
    "import json\n",
    "\n",
    "@example_site.route('/example/test.json')\n",
    "def send_sinwave():\n",
    "    N = 1024\n",
    "    ix = np.arange(N)\n",
    "    y = np.sin(2 * np.pi * ix / float(N / 3)) * 20 + 30\n",
    "    x = range(0,N)\n",
    "    data = dict(X= x, Y=y)\n",
    "    data = pd.DataFrame(data)\n",
    "    return data.to_json(orient='records')\n",
    "\n",
    "json.loads(send_sinwave())[:5]"
   ]
  },
  {
   "cell_type": "markdown",
   "metadata": {},
   "source": [
    "Now that I have a datasource created, it is time to get to work on making an HTML template to display the plot once it is generated. The below code is all that is needed to let the JavaScript know where we want the plot to be placed on our page."
   ]
  },
  {
   "cell_type": "code",
   "execution_count": null,
   "metadata": {
    "collapsed": true
   },
   "outputs": [],
   "source": [
    "<div class=\"container-fluid bg-1 text-center\">\n",
    "    <div class=\"col-lg-12\">\n",
    "            <div class=\"panel panel-default\">\n",
    "        <div class=\"panel-body\">\n",
    "            <div class=\"flot-chart\">\n",
    "                <div class=\"flot-chart-content\" id=\"flot-line-chart\"></div>\n",
    "            </div>\n",
    "        </div>\n",
    "    </div>\n",
    "    </div>\n",
    "</div>"
   ]
  },
  {
   "cell_type": "markdown",
   "metadata": {},
   "source": [
    "The JavaScript is really where all the work is done. The code to create the plot follows. I am horrible at JavaScript and so I used D3 to manipulate the data but it can be done probably a million other ways, I just found this to be the easiest and most comprehendable by my weak Jarhead mind. \n",
    "\n",
    "So first thing is we need to get the data from our datasource to JavaScript. To do this we use AJAX. The function is pretty simple. We pass it the `url` of the datasource, tell it to not get data asyncronously and pass it a success function. The reason for the `async: false` is because without this the AJAX function would start downloading the data then move on to do other things. The data would still be loading miliseconds later and the things that are dependent on the data would be called and be freaking out. The success function simply stores the data in a variable called `plot_data`. "
   ]
  },
  {
   "cell_type": "code",
   "execution_count": null,
   "metadata": {
    "collapsed": true
   },
   "outputs": [],
   "source": [
    "$.ajax({\n",
    "    url: '/example/test.json',\n",
    "    dataType: 'json',\n",
    "    async: false,\n",
    "    success: function(data) {\n",
    "    plot_data = data\n",
    "        }\n",
    "    });"
   ]
  },
  {
   "cell_type": "markdown",
   "metadata": {},
   "source": [
    "Now that we have the data we need to get it into formats that Flot Plot will be happy with and to get some axis information. To get the axis information I used D3 because I thought it was a little easier to read. I then loop through the `plot_data` object to create a multi-deminsional array for Flot Plot. "
   ]
  },
  {
   "cell_type": "code",
   "execution_count": null,
   "metadata": {
    "collapsed": true
   },
   "outputs": [],
   "source": [
    "var yaxis = {\"Min\":d3.min(plot_data, function(d) { return d.Y; }),\n",
    "             \"Max\":d3.max(plot_data, function(d) { return d.Y; })};\n",
    "var xaxis = {\"Min\":d3.min(plot_data, function(d) { return d.X; }),\n",
    "             \"Max\":d3.max(plot_data, function(d) { return d.X; })};\n",
    "\n",
    "var data_to_plot = [[]];\n",
    "\n",
    "for(key in plot_data)\n",
    "    data_to_plot.push([plot_data[key].X, plot_data[key].Y]);"
   ]
  },
  {
   "cell_type": "code",
   "execution_count": null,
   "metadata": {
    "collapsed": true
   },
   "outputs": [],
   "source": [
    "//    actual plot stuff\n",
    "plot()\n",
    "function plot() {\n",
    "\n",
    "    var options = {\n",
    "        series: {\n",
    "            lines: {\n",
    "                show: true\n",
    "            },\n",
    "            points: {\n",
    "                show: true\n",
    "            }\n",
    "        },\n",
    "        grid: {\n",
    "            hoverable: true //IMPORTANT! this is needed for tooltip to work\n",
    "        },\n",
    "        yaxis: {\n",
    "            min: (yaxis.Min) - (50), // Just giving some room above and below the sinwave\n",
    "            max: (yaxis.Max) + (50)\n",
    "        },\n",
    "        xaxis: {\n",
    "            min: xaxis.Min,\n",
    "            max: xaxis.Max\n",
    "        },\n",
    "        tooltip: true,\n",
    "        tooltipOpts: {\n",
    "            content: \"'%s' of %x.1 is %y.4\",\n",
    "        }\n",
    "    };\n",
    "    var plotObj = $.plot($(\"#flot-line-chart\"), [{\n",
    "            data: data_to_plot,\n",
    "            label: \"A sinwave made in Python.\"\n",
    "        }],\n",
    "        options);\n",
    "}\n",
    "});"
   ]
  },
  {
   "cell_type": "markdown",
   "metadata": {},
   "source": [
    "plot1 here"
   ]
  },
  {
   "cell_type": "markdown",
   "metadata": {},
   "source": [
    "## Multiple Line Series\n",
    "\n",
    "To make things more interesting I decided to plot multiple lines. At first things were abit confusing because I am horrible with JavaScript, but after a little playing around this too is very easy to achieve. For this example I obviously need an additionaly datasource. I genereted this data source a little differently and made some tweaks to the original datasource because I found this method to be slightly better downstream. Take note that if you attempt to just send a Python dictionary wrapped in `jsonify()` or any of its sister functions it will kick back with an error about not being serialized. To fix this problem you can just pass the `jsonify` function key names like a dictionary, something II had not realized originally.. "
   ]
  },
  {
   "cell_type": "code",
   "execution_count": null,
   "metadata": {
    "collapsed": true
   },
   "outputs": [],
   "source": [
    "@example_site.route('/example/test.json')\n",
    "def send_sinwave():\n",
    "    N = 1024\n",
    "    ix = np.arange(N)\n",
    "    y = np.sin(2 * np.pi * ix / float(N / 3)) * 20 + 30\n",
    "    x = range(0, N)\n",
    "    data = pd.DataFrame({'X': x, 'Y':  y}).to_dict(orient='records')\n",
    "    return jsonify(DataTest=data, label='TestLabel')\n",
    "\n",
    "@example_site.route('/example/test2.json')\n",
    "def send_sinwave2():\n",
    "    N = 2000\n",
    "    ix = np.arange(N)\n",
    "    y = np.sin(-2 * np.pi * ix / float(N / 3)) * -2\n",
    "    x = range(0, N)\n",
    "    data = pd.DataFrame({'X': x, 'Y':  y}).to_dict(orient='records')\n",
    "    return jsonify(DataTest=data, label='TestLabel2')"
   ]
  },
  {
   "cell_type": "markdown",
   "metadata": {},
   "source": [
    "To get the data we just add a second AJAX call that gets a url passed to it corrisponding with our second data source, then save the data off to a variable that I am creatively calling `plot_data2`. "
   ]
  },
  {
   "cell_type": "code",
   "execution_count": null,
   "metadata": {
    "collapsed": true
   },
   "outputs": [],
   "source": [
    "var plot_data;\n",
    "var plot_data2;\n",
    "\n",
    "$.ajax({\n",
    "    url: '/example/test.json',\n",
    "    dataType: 'json',\n",
    "    async: false,\n",
    "    success: function(data) {\n",
    "    plot_data = data\n",
    "        }\n",
    "    });\n",
    "\n",
    "$.ajax({\n",
    "    url: '/example/test2.json',\n",
    "    dataType: 'json',\n",
    "    async: false,\n",
    "    success: function(data) {\n",
    "    plot_data = data\n",
    "        }\n",
    "    });"
   ]
  },
  {
   "cell_type": "markdown",
   "metadata": {},
   "source": [
    "Once the data is in JavaScript if we wrap both datasets in list we can use D3 to get the axis min and maxes over all datasets in one simple call. "
   ]
  },
  {
   "cell_type": "code",
   "execution_count": null,
   "metadata": {
    "collapsed": true
   },
   "outputs": [],
   "source": [
    "var both_data = [plot_data,plot_data2];\n",
    "\n",
    "var minY = d3.min(both_data, function(pd) { return d3.min(pd.DataTest, function(dt) { return dt.Y; }); });\n",
    "var maxY = d3.max(both_data, function(pd) { return d3.max(pd.DataTest, function(dt) { return dt.Y; }); });\n",
    "var minX = d3.min(both_data, function(pd) { return d3.min(pd.DataTest, function(dt) { return dt.X; }); });\n",
    "var maxX = d3.max(both_data, function(pd) { return d3.max(pd.DataTest, function(dt) { return dt.X; }); });"
   ]
  },
  {
   "cell_type": "markdown",
   "metadata": {},
   "source": [
    "Next comes something I am not super fond of and could be avoided if I just passed matrices from Python instead of labeled dictionary/DataFrames. Maybe there is a trick to do this in JavaScript that I am not aware of at this time but for now the following seems to be required because Flot Plot requires its data in multidemensional arrays, not as objects. "
   ]
  },
  {
   "cell_type": "code",
   "execution_count": null,
   "metadata": {
    "collapsed": true
   },
   "outputs": [],
   "source": [
    "var data_to_plot = [[]];\n",
    "var data_to_plot2 = [[]];\n",
    "\n",
    "for(key in plot_data.DataTest)\n",
    "    data_to_plot.push([plot_data.DataTest[key].X, plot_data.DataTest[key].Y]);\n",
    "\n",
    "for(key in plot_data2.DataTest)\n",
    "    data_to_plot2.push([plot_data2.DataTest[key].X, plot_data2.DataTest[key].Y]);"
   ]
  },
  {
   "cell_type": "markdown",
   "metadata": {},
   "source": [
    "The only change to the actual plotting code was in the plotObj variable. Just add an additional object that represents the additional series. Some observations about how I might improve on things. I could see passing the color information and maybe even other details about the series in the json datasource. "
   ]
  },
  {
   "cell_type": "code",
   "execution_count": null,
   "metadata": {
    "collapsed": true
   },
   "outputs": [],
   "source": [
    "var plotObj = $.plot($(\"#flot-line-chart\"), [{\n",
    "        data: data_to_plot,\n",
    "        label: plot_data.label,\n",
    "        color: 'blue'\n",
    "    },\n",
    "    {\n",
    "        data: data_to_plot2,\n",
    "        label: plot_data2.label,\n",
    "        color: 'red'\n",
    "    }],\n",
    "    options);\n",
    "}"
   ]
  },
  {
   "cell_type": "markdown",
   "metadata": {},
   "source": [
    "\n",
    "\n",
    "\n",
    "\n"
   ]
  },
  {
   "cell_type": "markdown",
   "metadata": {},
   "source": [
    "plot2 here"
   ]
  },
  {
   "cell_type": "code",
   "execution_count": null,
   "metadata": {
    "collapsed": true
   },
   "outputs": [],
   "source": []
  }
 ],
 "metadata": {
  "kernelspec": {
   "display_name": "Python 3",
   "language": "python",
   "name": "python3"
  },
  "language_info": {
   "codemirror_mode": {
    "name": "ipython",
    "version": 3
   },
   "file_extension": ".py",
   "mimetype": "text/x-python",
   "name": "python",
   "nbconvert_exporter": "python",
   "pygments_lexer": "ipython3",
   "version": "3.6.1"
  }
 },
 "nbformat": 4,
 "nbformat_minor": 2
}
