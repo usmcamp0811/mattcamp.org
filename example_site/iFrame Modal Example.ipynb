{
 "cells": [
  {
   "cell_type": "markdown",
   "metadata": {},
   "source": [
    "# iFrame Modal Example\n",
    "\n",
    "As previously mentioned at the end of my D3 Modal Example, I had problems displaying multiple modals on a single page. The following will demonstrate how to use iFrame inside a Bootstrap 4 modal. Just as an FYI there seems to be something in the D3 Modal example that doesn't like playing nice with the modals in this example. iFrame Modals look as if one could failry easily put the modal code in a Jinja2 macro and then use it as much as needed. I may end up doing this on my work project.\n",
    "\n",
    "### The imports\n",
    "\n",
    "These appear to just be your typical Bootstrap 4 imports. I didn't add anything more to my page to make this work."
   ]
  },
  {
   "cell_type": "code",
   "execution_count": null,
   "metadata": {
    "collapsed": true
   },
   "outputs": [],
   "source": [
    "<link rel=\"stylesheet\" href=\"https://maxcdn.bootstrapcdn.com/bootstrap/4.0.0-beta/css/bootstrap.min.css\">"
   ]
  },
  {
   "cell_type": "markdown",
   "metadata": {},
   "source": [
    "### Example Modal Buttons\n",
    "\n",
    "This is a pretty cool moto-video from my first deplyment to Fallujah, Iraq in 2004. I took most of the video and pictures but it was compiled by Josh Musser."
   ]
  },
  {
   "cell_type": "markdown",
   "metadata": {},
   "source": [
    "<button type=\"button\" class=\"btn btn-primary\" data-toggle=\"modal\" data-target=\"#modalHellsBells\">Me Firing Artillery In Fallujah</button>"
   ]
  },
  {
   "cell_type": "markdown",
   "metadata": {},
   "source": [
    "A Google Map of about where the video was taken."
   ]
  },
  {
   "cell_type": "markdown",
   "metadata": {},
   "source": [
    "<button type=\"button\" class=\"btn btn-primary\" data-toggle=\"modal\" data-target=\"#modalPalehorse\">Firebase Palehorse</button>"
   ]
  },
  {
   "cell_type": "markdown",
   "metadata": {},
   "source": [
    "Nothing special, just an example page from this site."
   ]
  },
  {
   "cell_type": "markdown",
   "metadata": {},
   "source": [
    "<button type=\"button\" class=\"btn btn-primary\" data-toggle=\"modal\" data-target=\"#modalExample\">An Example Page on My Site</button>"
   ]
  },
  {
   "cell_type": "markdown",
   "metadata": {},
   "source": [
    "### HTML Code for a Modal\n",
    "\n",
    "Each modal container needs to be created seperately, though they could be easily turned into a macro. To change the page displayed just edit the `<iframe>` tag with the appropriate url and that is it. Pretty simple to impliment."
   ]
  },
  {
   "cell_type": "code",
   "execution_count": null,
   "metadata": {
    "collapsed": true
   },
   "outputs": [],
   "source": [
    "<button type=\"button\" class=\"btn btn-primary\" data-toggle=\"modal\" data-target=\"#modalName\">Button Text</button>\n",
    "\n",
    "<div class=\"modal fade\" id=\"modalName\" tabindex=\"-1\" role=\"dialog\" aria-labelledby=\"myModalLabel\" aria-hidden=\"true\">\n",
    "<div class=\"modal-dialog modal-lg\" role=\"document\">\n",
    "\n",
    "    <!--Content-->\n",
    "    <div class=\"modal-content\">\n",
    "\n",
    "        <!--Body-->\n",
    "        <div class=\"modal-body mb-0 p-0\">\n",
    "\n",
    "            <div class=\"embed-responsive embed-responsive-16by9 z-depth-1-half\">\n",
    "                <iframe width=\"560\" height=\"315\" src=\"https://www.youtube.com/embed/79T2ThRZcvw\" frameborder=\"0\" gesture=\"media\" allow=\"encrypted-media\" allowfullscreen></iframe>\n",
    "            </div>\n",
    "\n",
    "        </div>\n",
    "\n",
    "        <!--Footer-->\n",
    "        <div class=\"modal-footer justify-content-center\">\n",
    "\n",
    "            <button type=\"button\" class=\"btn btn-outline-primary btn-rounded btn-md ml-4\" data-dismiss=\"modal\">Close</button>\n",
    "\n",
    "        </div>\n",
    "\n",
    "    </div>\n",
    "    <!--/.Content-->\n",
    "\n",
    "</div>\n",
    "</div>"
   ]
  }
 ],
 "metadata": {
  "kernelspec": {
   "display_name": "Python 3",
   "language": "python",
   "name": "python3"
  },
  "language_info": {
   "codemirror_mode": {
    "name": "ipython",
    "version": 3
   },
   "file_extension": ".py",
   "mimetype": "text/x-python",
   "name": "python",
   "nbconvert_exporter": "python",
   "pygments_lexer": "ipython3",
   "version": "3.6.1"
  }
 },
 "nbformat": 4,
 "nbformat_minor": 2
}
