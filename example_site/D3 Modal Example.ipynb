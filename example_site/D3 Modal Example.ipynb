{
 "cells": [
  {
   "cell_type": "markdown",
   "metadata": {},
   "source": [
    "# D3js Modal Example\n",
    "\n",
    "Ok so I spent the past day trying to get a modal to work for a project I have at work that uses Bootstrap 4. Apparently they either depricated the external url modal support or I am too ignorant in JavaScript/HTML/CSS to get it to work (most likely... have I said how much I suck at HTML/JS/CSS!). Because I am the type of person who can't just except that something isn't going to work... I spent the past hour or so exercising my Google Foo and finally found a compatible modal example that uses D3. I don't know a lot of D3 but what I do know I really like it. It is easy to use and for the most part makes sense. So full disclosure I didn't really make this example its just adopted from [HERE](https://bl.ocks.org/lsbardel/964b454dd40bc32082a0753e9106a707). \n",
    "\n",
    "The following will be pretty short but I'll demonstrate the logic for integrating this into a Flask site.\n",
    "### The imports"
   ]
  },
  {
   "cell_type": "code",
   "execution_count": null,
   "metadata": {
    "collapsed": true
   },
   "outputs": [],
   "source": [
    "<script src=\"https://d3js.org/d3.v4.js\"></script>\n",
    "<script src=\"https://cdnjs.cloudflare.com/ajax/libs/Faker/3.1.0/faker.min.js\"></script>\n",
    "<script src=\"https://unpkg.com/d3-require@0.4.5/build/d3-require.js\"></script>\n",
    "<script src=\"https://unpkg.com/d3-let@0.3.2/build/d3-let.js\"></script>\n",
    "<script src=\"https://unpkg.com/d3-view@0.9.3/build/d3-view.js\"></script>"
   ]
  },
  {
   "cell_type": "markdown",
   "metadata": {},
   "source": [
    "### The Modal Button HTML"
   ]
  },
  {
   "cell_type": "code",
   "execution_count": null,
   "metadata": {
    "collapsed": true
   },
   "outputs": [],
   "source": [
    "<button type=\"button\" class=\"btn btn-primary\" d3-on=\"$modal()\">\n",
    "    D3 Modal Button Example\n",
    "</button>\n",
    "\n",
    "# Because we are using D3, if we don't want a button and would rather have a plan text <a> tag we can. \n",
    "<a d3-on=\"$modal()\">\n",
    "    D3 Modal Plane Text Example\n",
    "</a>"
   ]
  },
  {
   "cell_type": "markdown",
   "metadata": {},
   "source": [
    "### The Modal JavaScript\n",
    "\n",
    "If you want to be able to dynamically pass the JavaScript page urls, we can either include all the following JS or if we just include the declaration of the variable `modal_url` in the html file we can save the rest of the code off in a seperate file to make things easier to digest. "
   ]
  },
  {
   "cell_type": "code",
   "execution_count": null,
   "metadata": {
    "collapsed": true
   },
   "outputs": [],
   "source": [
    "var modal_url = '{{ url_for('example_site.modal_example_popup') }}';\n",
    "\n",
    "(function () {\n",
    "\n",
    "var modal = {\n",
    "    model: {\n",
    "        modalTitle: \"Example D3 Modal\",\n",
    "        modalBody: 'If you want to hard code text for the modal do it here.', \n",
    "        showModal: false,\n",
    "        $showModal () {\n",
    "            this.showModal = true;\n",
    "        },\n",
    "        $hideModal () {\n",
    "            this.showModal = false;\n",
    "        }\n",
    "    },\n",
    "    directive: {\n",
    "        refresh (model, show) {\n",
    "            if (!this.passes) return;\n",
    "            var sel = this.sel,\n",
    "                modal = sel.classed('modal');\n",
    "            if (show) {\n",
    "                sel.style('display', 'block').classed('show', true);\n",
    "                if (modal) {\n",
    "                    var height = sel.style('height');\n",
    "                    sel.style('top', '-' + height);\n",
    "                    this.transition(sel).ease(d3.easeExpOut).style('top', '0px');\n",
    "                }\n",
    "            }\n",
    "            else {\n",
    "                var op = sel.style('opacity'),\n",
    "                    t = this.transition(sel);\n",
    "                sel.classed('show', false);\n",
    "                if (modal) {\n",
    "                    var height = sel.style('height');\n",
    "                    t.style('top', '-' + height).on('end', function () {\n",
    "                        sel.style('display', 'none');\n",
    "                    });\n",
    "                } else\n",
    "                    t.style('opacity', 0);\n",
    "                t.on('end', function () {\n",
    "                    sel.style('display', 'none').style('opacity', op);\n",
    "                });\n",
    "            }\n",
    "        }\n",
    "    },\n",
    "    render: function () {\n",
    "        return this.renderFromUrl(modal_url)\n",
    "    }\n",
    "};\n",
    "\n",
    "var vm = d3.view({\n",
    "    model: {\n",
    "        $modal() {\n",
    "            var modal = vm.select('.modal');\n",
    "            if (!modal.size())\n",
    "                vm.select('body').append('modal').mount(null, v => v.model.$showModal());\n",
    "            else\n",
    "                modal.model().$showModal();\n",
    "        }\n",
    "    },\n",
    "    components: {\n",
    "        modal: modal\n",
    "    },\n",
    "    directives: {\n",
    "        modal: modal.directive\n",
    "    }\n",
    "});\n",
    "vm.mount('body');\n",
    "}());"
   ]
  },
  {
   "cell_type": "markdown",
   "metadata": {},
   "source": [
    "### The Modal HTML Page\n",
    "\n",
    "I had bad luck when I was playing around with it getting it to show other pages from this site. So it would seem that the html for the page to be displayed as a modal does not need to be wrapped in <html> tags, but I could be wrong as I haven't read any documentation on this yet nor have I really tried everything under the sun. This is just my brief expierence that I am trying pass along. \n",
    "\n",
    "In the following HTML there are a couple nobs that can be turned to adjust things like how fast the modal appears and disappears."
   ]
  },
  {
   "cell_type": "code",
   "execution_count": null,
   "metadata": {
    "collapsed": true
   },
   "outputs": [],
   "source": [
    "<div>\n",
    "<div class=\"modal\" tabindex=\"-1\" role=\"dialog\" d3-modal=\"showModal\" data-transition-duration=\"500\">\n",
    "  <div class=\"modal-dialog\" role=\"document\">\n",
    "    <div class=\"modal-content\">\n",
    "      <div class=\"modal-header\">\n",
    "        <h5 class=\"modal-title\" d3-html=\"modalTitle\"></h5>\n",
    "        <button type=\"button\" class=\"close\" data-dismiss=\"modal\" aria-label=\"Close\">\n",
    "          <span aria-hidden=\"true\" d3-on=\"$hideModal()\">&times;</span>\n",
    "        </button>\n",
    "      </div>\n",
    "      <div class=\"modal-body\" d3-html=\"modalBody\">\n",
    "            <div id=\"construction_containter\" class=\"text-center\" >\n",
    "            <img class=\"uc_img\" src=\"/main/img/robots.png\" alt=\"Matt Camp\" style=\"width: 50%;\">\n",
    "            <h3>A Very Basic Example of a Modal.</h3>\n",
    "            </div>\n",
    "      </div>\n",
    "      <div class=\"modal-footer\">\n",
    "        <button type=\"button\" class=\"btn btn-secondary\" d3-on=\"$hideModal()\">Close</button>\n",
    "      </div>\n",
    "    </div>\n",
    "  </div>\n",
    "</div>\n",
    "<div class=\"modal-backdrop fade\" d3-modal=\"showModal\" data-transition-duration=\"500\"></div>\n",
    "</div>"
   ]
  },
  {
   "cell_type": "markdown",
   "metadata": {},
   "source": [
    "### Put it all together"
   ]
  },
  {
   "cell_type": "markdown",
   "metadata": {},
   "source": [
    "<button type=\"button\" class=\"btn btn-primary\" d3-on=\"$modal()\">\n",
    "    D3 Modal Button Example\n",
    "</button>"
   ]
  },
  {
   "cell_type": "markdown",
   "metadata": {},
   "source": [
    "This solution is alright and will work fairly well if you only need a single modal per page. I originally thought I could pass different urls to the `modal_url` variable with D3 and it would dynamically change the page displayed on the modal. I was wrong... or more likely did something wrong again. My belief is that the function that houses the modal loads once and won't load again. I tried changing the function to be callable but there was some issue with `d3.view` I think that would throw an error on the second time the page loaded. There likely is an easy solution to this but my lack of expierence with JavaScript is precluding me at this time from using this method the way I intended to. Luckily I did finally find the prefered Bootstrap method for modals using urls. \n",
    "\n",
    "UPDATE: I figured out how to do this in Bootstrap 4 using iFrames. Check out the example [here] ({{ url_for('example_site.iframe_modal') }}}"
   ]
  }
 ],
 "metadata": {
  "kernelspec": {
   "display_name": "Python 3",
   "language": "python",
   "name": "python3"
  },
  "language_info": {
   "codemirror_mode": {
    "name": "ipython",
    "version": 3
   },
   "file_extension": ".py",
   "mimetype": "text/x-python",
   "name": "python",
   "nbconvert_exporter": "python",
   "pygments_lexer": "ipython3",
   "version": "3.6.1"
  }
 },
 "nbformat": 4,
 "nbformat_minor": 2
}
